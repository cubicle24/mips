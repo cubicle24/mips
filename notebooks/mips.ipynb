{
 "cells": [
  {
   "cell_type": "markdown",
   "id": "faf47144",
   "metadata": {},
   "source": [
    "# Objective: Uncover Trends & Patterns in Physician Quality"
   ]
  },
  {
   "cell_type": "markdown",
   "id": "b0ab89fb",
   "metadata": {
    "vscode": {
     "languageId": "plaintext"
    }
   },
   "source": [
    "1. Read in the data"
   ]
  },
  {
   "cell_type": "code",
   "execution_count": null,
   "id": "c15684d2",
   "metadata": {},
   "outputs": [],
   "source": [
    "import pandas as pd\n",
    "import numpy as np\n",
    "             "
   ]
  },
  {
   "cell_type": "code",
   "execution_count": 4,
   "id": "57d2a14e",
   "metadata": {},
   "outputs": [
    {
     "data": {
      "text/html": [
       "<div>\n",
       "<style scoped>\n",
       "    .dataframe tbody tr th:only-of-type {\n",
       "        vertical-align: middle;\n",
       "    }\n",
       "\n",
       "    .dataframe tbody tr th {\n",
       "        vertical-align: top;\n",
       "    }\n",
       "\n",
       "    .dataframe thead th {\n",
       "        text-align: right;\n",
       "    }\n",
       "</style>\n",
       "<table border=\"1\" class=\"dataframe\">\n",
       "  <thead>\n",
       "    <tr style=\"text-align: right;\">\n",
       "      <th></th>\n",
       "      <th>Facility Name</th>\n",
       "      <th>org_PAC_ID</th>\n",
       "      <th>ACO_ID_1</th>\n",
       "      <th>ACO_nm_1</th>\n",
       "      <th>ACO_ID_2</th>\n",
       "      <th>ACO_nm_2</th>\n",
       "      <th>measure_cd</th>\n",
       "      <th>measure_title</th>\n",
       "      <th>invs_msr</th>\n",
       "      <th>attestation_value</th>\n",
       "      <th>prf_rate</th>\n",
       "      <th>patient_count</th>\n",
       "      <th>star_value</th>\n",
       "      <th>five_star_benchmark</th>\n",
       "      <th>collection_type</th>\n",
       "      <th>CCXP_ind</th>\n",
       "    </tr>\n",
       "  </thead>\n",
       "  <tbody>\n",
       "    <tr>\n",
       "      <th>0</th>\n",
       "      <td>SPECTRUM FAMILY EYE CENTER OPTOMETRIC PA</td>\n",
       "      <td>0042268971</td>\n",
       "      <td>NaN</td>\n",
       "      <td>NaN</td>\n",
       "      <td>NaN</td>\n",
       "      <td>NaN</td>\n",
       "      <td>IA_GRP_AHE_1</td>\n",
       "      <td>Enhance Engagement of Medicaid and Other Under...</td>\n",
       "      <td>N</td>\n",
       "      <td>Y</td>\n",
       "      <td>NaN</td>\n",
       "      <td>NaN</td>\n",
       "      <td>NaN</td>\n",
       "      <td>NaN</td>\n",
       "      <td>NaN</td>\n",
       "      <td>Y</td>\n",
       "    </tr>\n",
       "    <tr>\n",
       "      <th>1</th>\n",
       "      <td>MOBILE MBS INC</td>\n",
       "      <td>0042357527</td>\n",
       "      <td>NaN</td>\n",
       "      <td>NaN</td>\n",
       "      <td>NaN</td>\n",
       "      <td>NaN</td>\n",
       "      <td>IA_GRP_AHE_1</td>\n",
       "      <td>Enhance Engagement of Medicaid and Other Under...</td>\n",
       "      <td>N</td>\n",
       "      <td>Y</td>\n",
       "      <td>NaN</td>\n",
       "      <td>NaN</td>\n",
       "      <td>NaN</td>\n",
       "      <td>NaN</td>\n",
       "      <td>NaN</td>\n",
       "      <td>Y</td>\n",
       "    </tr>\n",
       "    <tr>\n",
       "      <th>2</th>\n",
       "      <td>RETINA SAN DIEGO</td>\n",
       "      <td>0042521015</td>\n",
       "      <td>NaN</td>\n",
       "      <td>NaN</td>\n",
       "      <td>NaN</td>\n",
       "      <td>NaN</td>\n",
       "      <td>IA_GRP_AHE_1</td>\n",
       "      <td>Enhance Engagement of Medicaid and Other Under...</td>\n",
       "      <td>N</td>\n",
       "      <td>Y</td>\n",
       "      <td>NaN</td>\n",
       "      <td>NaN</td>\n",
       "      <td>NaN</td>\n",
       "      <td>NaN</td>\n",
       "      <td>NaN</td>\n",
       "      <td>Y</td>\n",
       "    </tr>\n",
       "    <tr>\n",
       "      <th>3</th>\n",
       "      <td>KARPIK AND RICE EYECARE PC</td>\n",
       "      <td>0042534281</td>\n",
       "      <td>NaN</td>\n",
       "      <td>NaN</td>\n",
       "      <td>NaN</td>\n",
       "      <td>NaN</td>\n",
       "      <td>IA_GRP_AHE_1</td>\n",
       "      <td>Enhance Engagement of Medicaid and Other Under...</td>\n",
       "      <td>N</td>\n",
       "      <td>Y</td>\n",
       "      <td>NaN</td>\n",
       "      <td>NaN</td>\n",
       "      <td>NaN</td>\n",
       "      <td>NaN</td>\n",
       "      <td>NaN</td>\n",
       "      <td>Y</td>\n",
       "    </tr>\n",
       "    <tr>\n",
       "      <th>4</th>\n",
       "      <td>INTERCARE MEDICAL CLINIC</td>\n",
       "      <td>0042549800</td>\n",
       "      <td>NaN</td>\n",
       "      <td>NaN</td>\n",
       "      <td>NaN</td>\n",
       "      <td>NaN</td>\n",
       "      <td>IA_GRP_AHE_1</td>\n",
       "      <td>Enhance Engagement of Medicaid and Other Under...</td>\n",
       "      <td>N</td>\n",
       "      <td>Y</td>\n",
       "      <td>NaN</td>\n",
       "      <td>NaN</td>\n",
       "      <td>NaN</td>\n",
       "      <td>NaN</td>\n",
       "      <td>NaN</td>\n",
       "      <td>Y</td>\n",
       "    </tr>\n",
       "  </tbody>\n",
       "</table>\n",
       "</div>"
      ],
      "text/plain": [
       "                              Facility Name  org_PAC_ID  ACO_ID_1  ACO_nm_1  \\\n",
       "0  SPECTRUM FAMILY EYE CENTER OPTOMETRIC PA  0042268971       NaN       NaN   \n",
       "1                            MOBILE MBS INC  0042357527       NaN       NaN   \n",
       "2                          RETINA SAN DIEGO  0042521015       NaN       NaN   \n",
       "3                KARPIK AND RICE EYECARE PC  0042534281       NaN       NaN   \n",
       "4                  INTERCARE MEDICAL CLINIC  0042549800       NaN       NaN   \n",
       "\n",
       "   ACO_ID_2  ACO_nm_2    measure_cd  \\\n",
       "0       NaN       NaN  IA_GRP_AHE_1   \n",
       "1       NaN       NaN  IA_GRP_AHE_1   \n",
       "2       NaN       NaN  IA_GRP_AHE_1   \n",
       "3       NaN       NaN  IA_GRP_AHE_1   \n",
       "4       NaN       NaN  IA_GRP_AHE_1   \n",
       "\n",
       "                                       measure_title  invs_msr  \\\n",
       "0  Enhance Engagement of Medicaid and Other Under...         N   \n",
       "1  Enhance Engagement of Medicaid and Other Under...         N   \n",
       "2  Enhance Engagement of Medicaid and Other Under...         N   \n",
       "3  Enhance Engagement of Medicaid and Other Under...         N   \n",
       "4  Enhance Engagement of Medicaid and Other Under...         N   \n",
       "\n",
       "   attestation_value  prf_rate  patient_count  star_value  \\\n",
       "0                  Y       NaN            NaN         NaN   \n",
       "1                  Y       NaN            NaN         NaN   \n",
       "2                  Y       NaN            NaN         NaN   \n",
       "3                  Y       NaN            NaN         NaN   \n",
       "4                  Y       NaN            NaN         NaN   \n",
       "\n",
       "   five_star_benchmark  collection_type  CCXP_ind  \n",
       "0                  NaN              NaN         Y  \n",
       "1                  NaN              NaN         Y  \n",
       "2                  NaN              NaN         Y  \n",
       "3                  NaN              NaN         Y  \n",
       "4                  NaN              NaN         Y  "
      ]
     },
     "execution_count": 4,
     "metadata": {},
     "output_type": "execute_result"
    }
   ],
   "source": [
    "mm = pd.read_csv('../data/raw/grp_public_reporting.csv', dtype='str')\n",
    "mm.head()"
   ]
  },
  {
   "cell_type": "markdown",
   "id": "fcdfb17d",
   "metadata": {},
   "source": [
    "2. Clean the data (missing values, duplicates, outliers)"
   ]
  },
  {
   "cell_type": "code",
   "execution_count": 5,
   "id": "63f325ac",
   "metadata": {},
   "outputs": [
    {
     "name": "stdout",
     "output_type": "stream",
     "text": [
      "<class 'pandas.core.frame.DataFrame'>\n",
      "RangeIndex: 193488 entries, 0 to 193487\n",
      "Data columns (total 16 columns):\n",
      " #   Column                Non-Null Count   Dtype \n",
      "---  ------                --------------   ----- \n",
      " 0   Facility Name         192502 non-null  object\n",
      " 1    org_PAC_ID           193488 non-null  object\n",
      " 2    ACO_ID_1             23816 non-null   object\n",
      " 3    ACO_nm_1             23816 non-null   object\n",
      " 4    ACO_ID_2             18 non-null      object\n",
      " 5    ACO_nm_2             18 non-null      object\n",
      " 6    measure_cd           193488 non-null  object\n",
      " 7    measure_title        193488 non-null  object\n",
      " 8    invs_msr             193488 non-null  object\n",
      " 9    attestation_value    81992 non-null   object\n",
      " 10   prf_rate             111496 non-null  object\n",
      " 11   patient_count        111496 non-null  object\n",
      " 12   star_value           80036 non-null   object\n",
      " 13   five_star_benchmark  80036 non-null   object\n",
      " 14   collection_type      111496 non-null  object\n",
      " 15   CCXP_ind             193488 non-null  object\n",
      "dtypes: object(16)\n",
      "memory usage: 23.6+ MB\n"
     ]
    }
   ],
   "source": [
    "# missing values\n",
    "mm.info()"
   ]
  },
  {
   "cell_type": "markdown",
   "id": "db45b0d1",
   "metadata": {},
   "source": [
    "3. Visualization of trends & patterns"
   ]
  },
  {
   "cell_type": "code",
   "execution_count": null,
   "id": "d0028cf8",
   "metadata": {},
   "outputs": [],
   "source": []
  }
 ],
 "metadata": {
  "kernelspec": {
   "display_name": "base",
   "language": "python",
   "name": "python3"
  },
  "language_info": {
   "codemirror_mode": {
    "name": "ipython",
    "version": 3
   },
   "file_extension": ".py",
   "mimetype": "text/x-python",
   "name": "python",
   "nbconvert_exporter": "python",
   "pygments_lexer": "ipython3",
   "version": "3.12.7"
  }
 },
 "nbformat": 4,
 "nbformat_minor": 5
}
